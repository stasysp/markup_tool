{
 "cells": [
  {
   "cell_type": "code",
   "execution_count": 1,
   "metadata": {},
   "outputs": [],
   "source": [
    "import struct\n",
    "import cv2\n",
    "import numpy as np\n",
    "def read_seq(path):\n",
    "    \n",
    "    def read_header(ifile):\n",
    "        feed = ifile.read(4)\n",
    "        norpix = ifile.read(24)\n",
    "        version = struct.unpack('@i', ifile.read(4))\n",
    "        length = struct.unpack('@i', ifile.read(4))\n",
    "        assert(length != 1024)\n",
    "        descr = ifile.read(512)\n",
    "        params = [struct.unpack('@i', ifile.read(4))[0] for i in range(0,9)]\n",
    "        fps = struct.unpack('@d', ifile.read(8))\n",
    "        # skipping the rest\n",
    "        ifile.read(432)\n",
    "        image_ext = {100:'raw', 102:'jpg',201:'jpg',1:'png',2:'png'}\n",
    "        return {'w':params[0],'h':params[1],\n",
    "                'bdepth':params[2],\n",
    "                'ext':image_ext[params[5]],\n",
    "                'format':params[5],\n",
    "                'size':params[4],\n",
    "                'true_size':params[8],\n",
    "                'num_frames':params[6]}\n",
    "    \n",
    "    ifile = open(path, 'rb')\n",
    "    params = read_header(ifile)\n",
    "    bytes = open(path, 'rb').read()\n",
    "\n",
    "    # this is freaking magic, but it works\n",
    "    extra = 8\n",
    "    s = 1024\n",
    "    seek = [0]*(params['num_frames']+1)\n",
    "    seek[0] = 1024\n",
    "    \n",
    "    images = []\n",
    "    \n",
    "    for i in range(0, params['num_frames'] - 1):\n",
    "        tmp = struct.unpack_from('@I', bytes[s:s+4])[0]\n",
    "        s = seek[i] + tmp + extra\n",
    "        if i == 0:\n",
    "            val = struct.unpack_from('@B', bytes[s:s+1])[0]\n",
    "            if val != 0:\n",
    "                s -= 4\n",
    "            else:\n",
    "                extra += 8\n",
    "                s += 8\n",
    "        seek[i+1] = s\n",
    "        nbytes = struct.unpack_from('@i', bytes[s:s+4])[0]\n",
    "        I = bytes[s+4:s+nbytes]\n",
    "        \n",
    "        tmp_file = '/tmp/img%d.jpg' % i\n",
    "        open(tmp_file, 'wb+').write(I)\n",
    "        \n",
    "        img = cv2.imread(tmp_file)\n",
    "        img = cv2.cvtColor(img, cv2.COLOR_BGR2RGB)\n",
    "        images.append(img)\n",
    "    return images"
   ]
  },
  {
   "cell_type": "code",
   "execution_count": 19,
   "metadata": {},
   "outputs": [],
   "source": [
    "images = read_seq('/home/stasysp/Downloads/set00/V001.seq')"
   ]
  },
  {
   "cell_type": "code",
   "execution_count": 20,
   "metadata": {},
   "outputs": [
    {
     "data": {
      "text/plain": [
       "(1843, 480, 640, 3)"
      ]
     },
     "execution_count": 20,
     "metadata": {},
     "output_type": "execute_result"
    }
   ],
   "source": [
    "np.array(images).shape"
   ]
  },
  {
   "cell_type": "code",
   "execution_count": 23,
   "metadata": {},
   "outputs": [],
   "source": [
    "import os\n",
    "p ='/home/stasysp/Downloads/set00/set01'\n",
    "if not os.path.exists(p):\n",
    "        os.makedirs(p)\n",
    "for i, img in enumerate(images[320:370]):\n",
    "    img = cv2.cvtColor(img, cv2.COLOR_BGR2RGB)\n",
    "    cv2.imwrite(os.path.join(p, str(i).rjust(6, '0') + '.jpg'), img)"
   ]
  },
  {
   "cell_type": "code",
   "execution_count": null,
   "metadata": {},
   "outputs": [],
   "source": []
  }
 ],
 "metadata": {
  "kernelspec": {
   "display_name": "Python 3",
   "language": "python",
   "name": "python3"
  },
  "language_info": {
   "codemirror_mode": {
    "name": "ipython",
    "version": 3
   },
   "file_extension": ".py",
   "mimetype": "text/x-python",
   "name": "python",
   "nbconvert_exporter": "python",
   "pygments_lexer": "ipython3",
   "version": "3.6.7"
  }
 },
 "nbformat": 4,
 "nbformat_minor": 2
}
